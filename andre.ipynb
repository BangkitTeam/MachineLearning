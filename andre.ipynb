{
 "cells": [
  {
   "cell_type": "markdown",
   "metadata": {
    "colab_type": "text",
    "id": "view-in-github"
   },
   "source": [
    "<a href=\"https://colab.research.google.com/github/uchihamadara37/ML-capstone-bangkit/blob/main/andre.ipynb\" target=\"_parent\"><img src=\"https://colab.research.google.com/assets/colab-badge.svg\" alt=\"Open In Colab\"/></a>"
   ]
  },
  {
   "cell_type": "code",
   "execution_count": null,
   "metadata": {
    "colab": {
     "base_uri": "https://localhost:8080/"
    },
    "id": "isBoaDIl7PdC",
    "outputId": "27156d6b-6c6c-46cb-8d28-7961fe386b74"
   },
   "outputs": [],
   "source": []
  },
  {
   "cell_type": "code",
   "execution_count": null,
   "metadata": {
    "id": "f2hm1QbY7Po1"
   },
   "outputs": [],
   "source": []
  },
  {
   "cell_type": "markdown",
   "metadata": {
    "id": "AQPuyZ3VFTmL"
   },
   "source": [
    "Setup Library\n",
    "**Preprocessing**"
   ]
  },
  {
   "cell_type": "code",
   "execution_count": null,
   "metadata": {
    "id": "zwFnJsE6vjf8"
   },
   "outputs": [],
   "source": [
    "# prompt: install kaggle library\n",
    "\n",
    "# !pip install kaggle\n"
   ]
  },
  {
   "cell_type": "code",
   "execution_count": null,
   "metadata": {
    "id": "A35ECgwlKjdv"
   },
   "outputs": [],
   "source": [
    "# !kaggle datasets download -d wangziang/waste-pictures -p data --unzip"
   ]
  },
  {
   "cell_type": "code",
   "execution_count": 1,
   "metadata": {
    "colab": {
     "base_uri": "https://localhost:8080/"
    },
    "id": "rdnNrZKl4cnv",
    "outputId": "1fe3fc9b-e940-44b7-e8c2-0141d3d671de"
   },
   "outputs": [
    {
     "name": "stdout",
     "output_type": "stream",
     "text": [
      "--2024-11-22 07:44:29--  https://drive.usercontent.google.com/download?id=1AXuYOj63tdibRhEtOxI-kpEP6wBTMB56&export=download&authuser=0&confirm=t&uuid=9b208456-adaf-4b04-8b21-1d597c3f5e75&at=AENtkXZDhOKlhrjWsI2Owbxb63ix%3A1731726201156\n",
      "Resolving drive.usercontent.google.com (drive.usercontent.google.com)... 74.125.197.132, 2607:f8b0:400e:c0d::84\n",
      "Connecting to drive.usercontent.google.com (drive.usercontent.google.com)|74.125.197.132|:443... connected.\n",
      "HTTP request sent, awaiting response... 200 OK\n",
      "Length: 879645956 (839M) [application/octet-stream]\n",
      "Saving to: ‘trash_data.zip’\n",
      "\n",
      "trash_data.zip      100%[===================>] 838.90M  66.9MB/s    in 13s     \n",
      "\n",
      "2024-11-22 07:44:44 (64.2 MB/s) - ‘trash_data.zip’ saved [879645956/879645956]\n",
      "\n"
     ]
    }
   ],
   "source": [
    "!wget \"https://drive.usercontent.google.com/download?id=1AXuYOj63tdibRhEtOxI-kpEP6wBTMB56&export=download&authuser=0&confirm=t&uuid=9b208456-adaf-4b04-8b21-1d597c3f5e75&at=AENtkXZDhOKlhrjWsI2Owbxb63ix%3A1731726201156\" -O trash_data.zip"
   ]
  },
  {
   "cell_type": "code",
   "execution_count": 2,
   "metadata": {
    "id": "iX57g8od5bx8"
   },
   "outputs": [],
   "source": [
    "!unzip -o -q trash_data.zip -d data3"
   ]
  },
  {
   "cell_type": "markdown",
   "metadata": {
    "id": "TcpomHnxLQRw"
   },
   "source": [
    "## **Exploratory Analysis**\n",
    "First, I need to prepare all libraries needed for analysis."
   ]
  },
  {
   "cell_type": "code",
   "execution_count": 3,
   "metadata": {
    "id": "oesy4VQ4KzCv"
   },
   "outputs": [],
   "source": [
    "from mpl_toolkits.mplot3d import Axes3D\n",
    "from sklearn.preprocessing import StandardScaler\n",
    "import matplotlib.pyplot as plt # plotting\n",
    "import numpy as np # linear algebra\n",
    "import os # accessing directory structure\n",
    "import pandas as pd # data processing, CSV file\n",
    "from pathlib import Path\n",
    "\n",
    "from sklearn.model_selection import train_test_split\n",
    "import matplotlib.image as mpimg\n",
    "\n",
    "# untuk hunting file corrupt\n",
    "from PIL import Image\n",
    "import shutil\n",
    "\n",
    "# untuk keperluan modeling\n",
    "import tensorflow as tf\n",
    "from tensorflow.keras.preprocessing.image import ImageDataGenerator\n",
    "from tensorflow.keras import regularizers\n",
    "from tensorflow.keras.regularizers import l2\n",
    "\n",
    "\n"
   ]
  },
  {
   "cell_type": "code",
   "execution_count": 4,
   "metadata": {
    "id": "fcBcxng8NaDX"
   },
   "outputs": [],
   "source": [
    "root_dir = Path('./data3/resized_data')\n",
    "train_dir = os.path.join(root_dir, 'train')\n",
    "test_dir = os.path.join(root_dir, 'test')"
   ]
  },
  {
   "cell_type": "code",
   "execution_count": null,
   "metadata": {
    "id": "gC8nA-ZRSodi"
   },
   "outputs": [],
   "source": [
    "# Buat ngecek dir\n",
    "# for entry in os.listdir(root_dir):\n",
    "#     full_path = os.path.join(root_dir, entry)\n",
    "#     if os.path.isdir(full_path):\n",
    "#         print(f\"|---->: {os.path.basename(full_path)}\")\n",
    "#         for entry2 in os.listdir(full_path):\n",
    "#             full_path2 = os.path.join(full_path, entry2)\n",
    "#             if os.path.isdir(full_path2):\n",
    "#                 print(f\"    |---->: {os.path.basename(full_path2)}\")\n"
   ]
  },
  {
   "cell_type": "code",
   "execution_count": null,
   "metadata": {
    "id": "IO42X_CifaU8"
   },
   "outputs": [],
   "source": []
  },
  {
   "cell_type": "markdown",
   "metadata": {
    "id": "q1NpMW5yc0si"
   },
   "source": [
    "### Installasi Tensorflow\n"
   ]
  },
  {
   "cell_type": "code",
   "execution_count": null,
   "metadata": {
    "id": "_4PgG952cbli"
   },
   "outputs": [],
   "source": [
    "# !pip install tensorflow"
   ]
  },
  {
   "cell_type": "markdown",
   "metadata": {
    "id": "3lyURH8me0Vp"
   },
   "source": [
    "#### Mengecek installasi tensorflow\n"
   ]
  },
  {
   "cell_type": "code",
   "execution_count": null,
   "metadata": {
    "id": "AmxYsv6ic7B6"
   },
   "outputs": [],
   "source": [
    "# !pip show tensorflow\n"
   ]
  },
  {
   "cell_type": "code",
   "execution_count": null,
   "metadata": {
    "id": "nFfZJSNNVDzD"
   },
   "outputs": [],
   "source": [
    "# !pip show matplotlib"
   ]
  },
  {
   "cell_type": "code",
   "execution_count": null,
   "metadata": {
    "id": "uYBRJ3o_TFeT"
   },
   "outputs": [],
   "source": [
    "# def display_sample_images(base_dir, n_samples=3):\n",
    "\n",
    "#     categories = os.listdir(base_dir)\n",
    "#     n_categories = len(categories)\n",
    "\n",
    "#     fig, axes = plt.subplots(n_categories, n_samples, figsize=(15, 3*n_categories))\n",
    "\n",
    "#     for i, category in enumerate(categories):\n",
    "#         # FullPath untuk setiap kategori folder\n",
    "#         fullpath_category = os.path.join(base_dir, category)\n",
    "\n",
    "#         # Mendapatkan semua file gambar dalam kategori\n",
    "#         image_files = [f for f in os.listdir(fullpath_category)\n",
    "#                       if f.lower().endswith(('.png', '.jpg', '.jpeg'))]\n",
    "\n",
    "#         # Mengambil 5 gambar secara random\n",
    "#         selected_images = image_files[0:n_samples]\n",
    "\n",
    "#         # Menampilkan gambar\n",
    "#         for j, image_file in enumerate(selected_images):\n",
    "#             img_path = os.path.join(fullpath_category, image_file)\n",
    "#             try:\n",
    "#                 img = mpimg.imread(img_path)\n",
    "#                 # Plot gambar\n",
    "#                 axes[i, j].imshow(img)\n",
    "#                 axes[i, j].axis('off')\n",
    "\n",
    "#                 # Menambahkan judul kategori hanya pada gambar pertama setiap baris\n",
    "#                 if j == 0:\n",
    "#                     axes[i, j].set_title(f'{category}', pad=10)\n",
    "#             except Exception as e:\n",
    "#                 print(f\"Error loading image {img_path}: {str(e)}\")\n",
    "\n",
    "#                 # Untuk gambar yang error\n",
    "#                 axes[i, j].text(0.5, 0.5, 'Error loading image',\n",
    "#                               ha='center', va='center')\n",
    "#                 axes[i, j].axis('off')\n",
    "\n",
    "#                 continue\n",
    "\n",
    "\n",
    "#     # plt.tight_layout()\n",
    "#     plt.show()\n",
    "\n",
    "# # Menampilkan sampel dari training set\n",
    "# print(\"Sample images from training set:\")\n",
    "# display_sample_images(train_dir)\n",
    "\n",
    "# # Menampilkan sampel dari test set\n",
    "# print(\"\\nSample images from test set:\")\n",
    "# display_sample_images(test_dir)"
   ]
  },
  {
   "cell_type": "markdown",
   "metadata": {
    "id": "3motLQq7gJO4"
   },
   "source": [
    "### **Membersihkan gambar corrupt terlebih dahulu**\n",
    "\n"
   ]
  },
  {
   "cell_type": "code",
   "execution_count": null,
   "metadata": {
    "id": "VuSkzV5jgZe4"
   },
   "outputs": [],
   "source": [
    "# import imghdr\n",
    "# import re\n",
    "\n",
    "# def is_unusual_name(name):\n",
    "#     # Mendeteksi jika nama mengandung karakter selain alfanumerik dan underscore\n",
    "#     # return bool(re.search(r'[^\\x00-\\x7F]', name) or re.search(r'[_\\W]+', name))\n",
    "#     return bool(re.search(r'[^\\x00-\\x7F]', name))\n",
    "\n",
    "# def remove_corrupt_images(base_dir):\n",
    "#    \"\"\"\n",
    "#    Menghapus gambar yang corrupt dari direktori dataset\n",
    "\n",
    "#    Args:\n",
    "#        base_dir: Directory utama dataset\n",
    "#    \"\"\"\n",
    "#    corrupt_count = 0\n",
    "#    total_images = 0\n",
    "#    corrupt_files = []\n",
    "\n",
    "#    print(\"Scanning for corrupt images...\")\n",
    "\n",
    "#    # Iterasi melalui semua folder dan subfolder\n",
    "#    for root, dirs, files in os.walk(base_dir):\n",
    "#        for dir in dirs:\n",
    "#           #  print(dir)\n",
    "#            if is_unusual_name(dir):\n",
    "#                print(\"dir nama aneh :\", dir, \": \", os.path.join(root, dir))\n",
    "#                if os.path.exists(os.path.join(root, dir)):\n",
    "#                   shutil.rmtree(os.path.join(root, dir))\n",
    "#                   print(\"dir berhasil dihapus\")\n",
    "\n",
    "\n",
    "#        for filename in files:\n",
    "#            if filename.lower().endswith(('.png', '.jpg', '.jpeg')):\n",
    "#                total_images += 1\n",
    "#                filepath = os.path.join(root, filename)\n",
    "\n",
    "#                try:\n",
    "#                    # Coba buka dan verifikasi gambar\n",
    "#                   #  with Image.open(filepath) as img:\n",
    "#                   #      img.verify()  # Verifikasi file\n",
    "#                   #      img.load()    # Coba load pixel data\n",
    "\n",
    "#                    # Verifikasi tambahan menggunakan imghdr\n",
    "#                   #  if imghdr.what(filepath) is None:\n",
    "#                   #      raise ValueError(\"File bukan gambar yang valid\")\n",
    "#                   img = mpimg.imread(filepath)\n",
    "\n",
    "\n",
    "#                except Exception as e:\n",
    "#                    corrupt_count += 1\n",
    "#                    corrupt_files.append((filepath, str(e)))\n",
    "\n",
    "#                    # Hapus file corrupt\n",
    "#                    try:\n",
    "#                        os.remove(filepath)\n",
    "#                        print(f\"Deleted corrupt file: {filepath}\")\n",
    "#                    except Exception as e:\n",
    "#                        print(f\"Error deleting {filepath}: {str(e)}\")\n",
    "\n",
    "#    # Print summary\n",
    "#    print(\"\\nPembersihan selesai!\")\n",
    "#    print(f\"Total gambar diperiksa: {total_images}\")\n",
    "#    print(f\"Gambar corrupt dihapus: {corrupt_count}\")\n",
    "\n",
    "#    if corrupt_files:\n",
    "#        print(\"\\nDaftar file yang dihapus:\")\n",
    "#        for path, error in corrupt_files:\n",
    "#            print(f\"- {path}\")\n",
    "#            print(f\"  Error: {error}\")\n",
    "\n",
    "#    # Hitung jumlah gambar yang tersisa per kategori\n",
    "#    print(\"\\nJumlah gambar tersisa per kategori:\")\n",
    "#    for root, dirs, files in os.walk(base_dir):\n",
    "#        category = os.path.basename(root)\n",
    "#        if category:\n",
    "#            image_count = len([f for f in files if f.lower().endswith(('.png', '.jpg', '.jpeg'))])\n",
    "#            if image_count > 0:\n",
    "#                print(f\"{category}: {image_count} gambar\")\n",
    "\n",
    "#    return corrupt_files"
   ]
  },
  {
   "cell_type": "markdown",
   "metadata": {
    "id": "4dJt9U7Xsv_2"
   },
   "source": [
    "### Saya start hapus yang corrupt"
   ]
  },
  {
   "cell_type": "code",
   "execution_count": null,
   "metadata": {
    "id": "OpsXgKu9_9v5"
   },
   "outputs": [],
   "source": []
  },
  {
   "cell_type": "code",
   "execution_count": null,
   "metadata": {
    "id": "bCjuCe1Iqe1F"
   },
   "outputs": [],
   "source": [
    "# corrupt_files = remove_corrupt_images(root_dir)"
   ]
  },
  {
   "cell_type": "code",
   "execution_count": null,
   "metadata": {
    "id": "9V2C00D0m_bS"
   },
   "outputs": [],
   "source": [
    "# jumlah file di masing2 folder\n",
    "# def count_files_in_folders(root_dir):\n",
    "#     folder_counts = {}\n",
    "\n",
    "#     # Iterasi melalui semua item di root_dir\n",
    "#     for item in os.listdir(root_dir):\n",
    "#         item_path = os.path.join(root_dir, item)\n",
    "\n",
    "#         # Jika item adalah folder\n",
    "#         if os.path.isdir(item_path):\n",
    "#             file_count = 0\n",
    "\n",
    "#             # Hitung file di dalam folder\n",
    "#             for _, _, files in os.walk(item_path):\n",
    "#                 file_count += len(files)\n",
    "\n",
    "#             folder_counts[item] = file_count\n",
    "\n",
    "#     return folder_counts\n",
    "# root_folder = 'data/train'\n",
    "\n",
    "# # Hitung file\n",
    "# result = count_files_in_folders(root_folder)\n",
    "\n",
    "# # Tampilkan hasil\n",
    "# print(f\"Jumlah file di masing-masing folder dalam '{root_folder}':\")\n",
    "# for folder, count in result.items():\n",
    "#     print(f\"{folder}: {count} file\")"
   ]
  },
  {
   "cell_type": "code",
   "execution_count": null,
   "metadata": {
    "id": "3rR7WX7loMCd"
   },
   "outputs": [],
   "source": [
    "# # menghapus folder data dan seluruh isinya\n",
    "# import shutil\n",
    "# import os\n",
    "\n",
    "# def delete_directory(path):\n",
    "#     try:\n",
    "#         # Periksa apakah direktori ada\n",
    "#         if os.path.exists(path):\n",
    "#             # Hapus direktori dan semua isinya\n",
    "#             shutil.rmtree(path)\n",
    "#             print(f\"Direktori '{path}' berhasil dihapus beserta seluruh isinya.\")\n",
    "#         else:\n",
    "#             print(f\"Direktori '{path}' tidak ditemukan.\")\n",
    "#     except Exception as e:\n",
    "#         print(f\"Terjadi kesalahan saat menghapus direktori: {e}\")\n",
    "\n",
    "\n",
    "\n",
    "# # Panggil fungsi untuk menghapus direktori | hati2 sluurr...\n",
    "# # delete_directory('data')\n",
    "\n",
    "# # Verifikasi bahwa direktori telah dihapus\n",
    "# if not os.path.exists('data2'):\n",
    "#     print(\"Verifikasi: Direktori 'data' tidak ada lagi.\")\n",
    "# else:\n",
    "#     print(\"Verifikasi: Direktori 'data' masih ada. Penghapusan mungkin gagal.\")"
   ]
  },
  {
   "cell_type": "code",
   "execution_count": null,
   "metadata": {
    "id": "19LtvVEak3pM"
   },
   "outputs": [],
   "source": [
    "# from google.colab import drive\n",
    "# drive.mount('/content/drive')"
   ]
  },
  {
   "cell_type": "code",
   "execution_count": null,
   "metadata": {
    "id": "_pspJ4OEknzK"
   },
   "outputs": [],
   "source": [
    "# # import os\n",
    "# # import shutil\n",
    "# from tqdm import tqdm\n",
    "\n",
    "# def copy_directory_structure(source_dir, destination_dir):\n",
    "#     \"\"\"\n",
    "#     Menyalin seluruh struktur direktori dan file dari source ke destination\n",
    "#     dengan progress bar\n",
    "#     \"\"\"\n",
    "#     # Hitung total file yang akan disalin\n",
    "#     total_files = sum([len(files) for _, _, files in os.walk(source_dir)])\n",
    "\n",
    "#     print(f\"Total files to copy: {total_files}\")\n",
    "#     print(f\"From: {source_dir}\")\n",
    "#     print(f\"To: {destination_dir}\")\n",
    "\n",
    "#     # Buat progress bar\n",
    "#     pbar = tqdm(total=total_files, desc=\"Copying files\")\n",
    "\n",
    "#     # Iterasi melalui semua direktori dan file\n",
    "#     for root, dirs, files in os.walk(source_dir):\n",
    "#         # Buat struktur direktori yang sama di destination\n",
    "#         relative_path = os.path.relpath(root, source_dir)\n",
    "#         destination_path = os.path.join(destination_dir, relative_path)\n",
    "\n",
    "#         # Buat direktori jika belum ada\n",
    "#         if not os.path.exists(destination_path):\n",
    "#             os.makedirs(destination_path)\n",
    "#             print(f\"\\nCreated directory: {destination_path}\")\n",
    "\n",
    "#         # Salin semua file dalam direktori current\n",
    "#         for file in files:\n",
    "#             source_file = os.path.join(root, file)\n",
    "#             destination_file = os.path.join(destination_path, file)\n",
    "\n",
    "#             try:\n",
    "#                 shutil.copy2(source_file, destination_file)\n",
    "#                 pbar.update(1)\n",
    "#             except Exception as e:\n",
    "#                 print(f\"\\nError copying {source_file}: {str(e)}\")\n",
    "\n",
    "#     pbar.close()\n",
    "\n",
    "#     # Verifikasi hasil copy\n",
    "#     def count_files(directory):\n",
    "#         return sum([len(files) for _, _, files in os.walk(directory)])\n",
    "\n",
    "#     source_count = count_files(source_dir)\n",
    "#     dest_count = count_files(destination_dir)\n",
    "\n",
    "#     print(\"\\nCopy completed!\")\n",
    "#     print(f\"Files in source: {source_count}\")\n",
    "#     print(f\"Files in destination: {dest_count}\")\n",
    "\n",
    "#     # Tampilkan struktur folder hasil copy\n",
    "#     print(\"\\nDestination directory structure:\")\n",
    "#     for root, dirs, files in os.walk(destination_dir):\n",
    "#         level = root.replace(destination_dir, '').count(os.sep)\n",
    "#         indent = ' ' * 4 * level\n",
    "#         print(f\"{indent}{os.path.basename(root)}/\")\n",
    "#         subindent = ' ' * 4 * (level + 1)\n",
    "#         for f in files:\n",
    "#             print(f\"{subindent}{f}\")\n",
    "\n",
    "# # Source dan destination directories\n",
    "# source_dir = 'data'\n",
    "# destination_dir = '/content/drive/MyDrive/trash_data_not_corrupt_insyaAllah'\n",
    "\n",
    "# # Pastikan Google Drive sudah dimount\n",
    "# # from google.colab import drive\n",
    "# # drive.mount('/content/drive')\n",
    "\n",
    "# # Jalankan fungsi copy\n",
    "# copy_directory_structure(source_dir, destination_dir)"
   ]
  },
  {
   "cell_type": "code",
   "execution_count": null,
   "metadata": {
    "id": "b8ejoev9kmHx"
   },
   "outputs": [],
   "source": [
    "# import os\n",
    "# import zipfile\n",
    "# import shutil\n",
    "# from tqdm import tqdm\n",
    "# from google.colab import drive\n",
    "\n",
    "# def create_and_copy_zip(source_dir, zip_name, destination_dir):\n",
    "#     \"\"\"\n",
    "#     Membuat file zip dari folder dan menyalinnya ke Google Drive\n",
    "#     \"\"\"\n",
    "#     print(\"Mounting Google Drive...\")\n",
    "#     drive.mount('/content/drive')\n",
    "\n",
    "#     # Hitung total file untuk progress bar\n",
    "#     total_files = sum([len(files) for _, _, files in os.walk(source_dir)])\n",
    "#     print(f\"\\nTotal files to compress: {total_files}\")\n",
    "\n",
    "#     # Buat zip file\n",
    "#     print(f\"\\nCreating {zip_name}...\")\n",
    "#     with zipfile.ZipFile(zip_name, 'w', zipfile.ZIP_DEFLATED) as zipf:\n",
    "#         # Gunakan progress bar\n",
    "#         with tqdm(total=total_files, desc=\"Compressing files\") as pbar:\n",
    "#             for root, dirs, files in os.walk(source_dir):\n",
    "#                 # Get path relative to source_dir\n",
    "#                 rel_path = os.path.relpath(root, source_dir)\n",
    "\n",
    "#                 # Add each file to zip\n",
    "#                 for file in files:\n",
    "#                     file_path = os.path.join(root, file)\n",
    "#                     # Add file ke zip dengan menjaga struktur folder\n",
    "#                     arcname = os.path.join(os.path.basename(source_dir),\n",
    "#                                          rel_path, file)\n",
    "#                     try:\n",
    "#                         zipf.write(file_path, arcname)\n",
    "#                         pbar.update(1)\n",
    "#                     except Exception as e:\n",
    "#                         print(f\"\\nError adding {file_path}: {str(e)}\")\n",
    "\n",
    "#     # Get zip file size\n",
    "#     zip_size = os.path.getsize(zip_name) / (1024 * 1024)  # Convert to MB\n",
    "#     print(f\"\\nZip file created: {zip_name} ({zip_size:.2f} MB)\")\n",
    "\n",
    "#     # Copy zip ke Google Drive\n",
    "#     print(f\"\\nCopying {zip_name} to Google Drive...\")\n",
    "#     try:\n",
    "#         shutil.copy2(zip_name, destination_dir)\n",
    "#         print(f\"Successfully copied to: {destination_dir}\")\n",
    "\n",
    "#         # Verifikasi file ada di drive\n",
    "#         dest_path = os.path.join(destination_dir, zip_name)\n",
    "#         if os.path.exists(dest_path):\n",
    "#             dest_size = os.path.getsize(dest_path) / (1024 * 1024)\n",
    "#             print(f\"Verified: File exists in drive ({dest_size:.2f} MB)\")\n",
    "#         else:\n",
    "#             print(\"Warning: File not found in destination!\")\n",
    "\n",
    "#     except Exception as e:\n",
    "#         print(f\"Error copying to drive: {str(e)}\")\n",
    "\n",
    "#     # Optional: Hapus zip file lokal setelah copy\n",
    "#     # try:\n",
    "#     #     os.remove(zip_name)\n",
    "#     #     print(f\"Cleaned up: Removed local {zip_name}\")\n",
    "#     # except Exception as e:\n",
    "#     #     print(f\"Error removing local zip: {str(e)}\")\n",
    "\n",
    "# # Gunakan fungsi\n",
    "# source_dir = 'data2/data'\n",
    "# zip_name = 'trash_data.zip'\n",
    "# destination_dir = '/content/drive/MyDrive'\n",
    "\n",
    "# create_and_copy_zip(source_dir, zip_name, destination_dir)\n",
    "\n",
    "# # Verifikasi isi zip\n",
    "# def verify_zip_contents(zip_path):\n",
    "#     print(\"\\nVerifying zip contents:\")\n",
    "#     try:\n",
    "#         with zipfile.ZipFile(os.path.join(destination_dir, zip_name), 'r') as zipf:\n",
    "#             # Hitung file dalam zip\n",
    "#             total_files = len(zipf.namelist())\n",
    "#             print(f\"Total files in zip: {total_files}\")\n",
    "\n",
    "#             # Tampilkan struktur folder dalam zip\n",
    "#             print(\"\\nZip contents structure:\")\n",
    "#             folders = {}\n",
    "#             for name in zipf.namelist():\n",
    "#                 parts = name.split('/')\n",
    "#                 current = folders\n",
    "#                 for part in parts[:-1]:  # Skip file name\n",
    "#                     if part not in current:\n",
    "#                         current[part] = {}\n",
    "#                     current = current[part]\n",
    "\n",
    "#             # Print struktur folder\n",
    "#             def print_tree(d, indent=0):\n",
    "#                 for k, v in d.items():\n",
    "#                     print('  ' * indent + k + '/')\n",
    "#                     print_tree(v, indent + 1)\n",
    "\n",
    "#             print_tree(folders)\n",
    "\n",
    "#     except Exception as e:\n",
    "#         print(f\"Error verifying zip: {str(e)}\")\n",
    "\n",
    "# # Verifikasi zip setelah copy\n",
    "# verify_zip_contents(os.path.join(destination_dir, zip_name))"
   ]
  },
  {
   "cell_type": "code",
   "execution_count": null,
   "metadata": {
    "id": "8b3O29uWzsXo"
   },
   "outputs": [],
   "source": [
    "# !cp trash_data.zip \"/content/drive/MyDrive/\"\n"
   ]
  },
  {
   "cell_type": "markdown",
   "metadata": {
    "id": "ac6yiKaPHSb1"
   },
   "source": [
    "### Mencampur dataset train dan test lalu membaginya ulang"
   ]
  },
  {
   "cell_type": "code",
   "execution_count": null,
   "metadata": {
    "id": "3NYNsj1tHcvk"
   },
   "outputs": [],
   "source": []
  },
  {
   "cell_type": "markdown",
   "metadata": {
    "id": "RjcBNZaab554"
   },
   "source": [
    "## Mulai menuju modeling (masih ada preprocessing)\n"
   ]
  },
  {
   "cell_type": "code",
   "execution_count": 6,
   "metadata": {
    "id": "NZaI3zbOb1Gs"
   },
   "outputs": [],
   "source": [
    "# Tentukan ukuran gambar yang konsisten\n",
    "IMG_HEIGHT = 128\n",
    "IMG_WIDTH = 128\n",
    "BATCH_SIZE = 32"
   ]
  },
  {
   "cell_type": "markdown",
   "metadata": {
    "id": "Wpz0s-914PN9"
   },
   "source": [
    "## Yang dari Module Coursera CNN\n"
   ]
  },
  {
   "cell_type": "markdown",
   "metadata": {
    "id": "_w5RTvt8aUAV"
   },
   "source": [
    "Menyiapkan suffle (pengacakan) dan juga prefetch (pengambilan model langsung ketika training)."
   ]
  },
  {
   "cell_type": "code",
   "execution_count": 7,
   "metadata": {
    "id": "P1Rk-yrqaHSE"
   },
   "outputs": [],
   "source": [
    "# pengacakan dan prefetch\n",
    "SUFFLE_BUFFER_SIZE = 1000\n",
    "PREFETCH_BUFFER_SIZE = tf.data.AUTOTUNE"
   ]
  },
  {
   "cell_type": "code",
   "execution_count": 8,
   "metadata": {
    "colab": {
     "base_uri": "https://localhost:8080/"
    },
    "id": "avNX7U_Y4O4C",
    "outputId": "87e5c300-88fa-4b93-9617-bdef16df9882"
   },
   "outputs": [
    {
     "name": "stdout",
     "output_type": "stream",
     "text": [
      "Found 17794 files belonging to 34 classes.\n"
     ]
    }
   ],
   "source": [
    "train_dataset = tf.keras.utils.image_dataset_from_directory(\n",
    "    train_dir,\n",
    "    image_size=(IMG_HEIGHT, IMG_WIDTH),\n",
    "    batch_size=BATCH_SIZE,\n",
    "    shuffle=True,\n",
    "    label_mode='categorical',\n",
    "    seed=40\n",
    ")"
   ]
  },
  {
   "cell_type": "markdown",
   "metadata": {
    "id": "7gW5Bqt0KBPc"
   },
   "source": [
    "### buat test\n"
   ]
  },
  {
   "cell_type": "code",
   "execution_count": 9,
   "metadata": {
    "colab": {
     "base_uri": "https://localhost:8080/"
    },
    "id": "f_yNfAMD7Ql9",
    "outputId": "929905ea-19d0-4a4f-dc75-803310012e51"
   },
   "outputs": [
    {
     "name": "stdout",
     "output_type": "stream",
     "text": [
      "Found 5726 files belonging to 34 classes.\n"
     ]
    }
   ],
   "source": [
    "val_dataset = tf.keras.utils.image_dataset_from_directory(\n",
    "    test_dir,\n",
    "    image_size=(IMG_HEIGHT, IMG_WIDTH),\n",
    "    batch_size=BATCH_SIZE,\n",
    "\n",
    "    shuffle=False,\n",
    "    label_mode='categorical',\n",
    "    seed=3\n",
    ")"
   ]
  },
  {
   "cell_type": "markdown",
   "metadata": {
    "id": "EMzb2z1OKSHP"
   },
   "source": [
    "### Diambil dikit buat val_"
   ]
  },
  {
   "cell_type": "code",
   "execution_count": 10,
   "metadata": {
    "colab": {
     "base_uri": "https://localhost:8080/"
    },
    "id": "qKRrd3bQu9YZ",
    "outputId": "9891b502-18b6-4399-9b8e-d4cae9a60c7f"
   },
   "outputs": [
    {
     "name": "stdout",
     "output_type": "stream",
     "text": [
      "val size  179\n",
      "<_SkipDataset element_spec=(TensorSpec(shape=(None, 128, 128, 3), dtype=tf.float32, name=None), TensorSpec(shape=(None, 34), dtype=tf.float32, name=None))>\n",
      "<_TakeDataset element_spec=(TensorSpec(shape=(None, 128, 128, 3), dtype=tf.float32, name=None), TensorSpec(shape=(None, 34), dtype=tf.float32, name=None))>\n",
      "Jumlah elemen di train_dataset: 557\n",
      "Jumlah elemen di val_ds: 157\n",
      "Jumlah elemen di test_dataset: 22\n"
     ]
    }
   ],
   "source": [
    "val_size = tf.data.experimental.cardinality(val_dataset)\n",
    "print(\"val size \", val_size.numpy())\n",
    "test_size = val_size // 8  # Mengambil 20% untuk validation\n",
    "\n",
    "val_ds = val_dataset.skip(test_size)\n",
    "test_dataset = val_dataset.take(test_size)\n",
    "\n",
    "print(val_ds)\n",
    "print(test_dataset)\n",
    "print(\"Jumlah elemen di train_dataset:\", tf.data.experimental.cardinality(train_dataset).numpy())\n",
    "print(\"Jumlah elemen di val_ds:\", tf.data.experimental.cardinality(val_ds).numpy())\n",
    "print(\"Jumlah elemen di test_dataset:\", tf.data.experimental.cardinality(test_dataset).numpy())"
   ]
  },
  {
   "cell_type": "code",
   "execution_count": 11,
   "metadata": {
    "id": "fXSVXYNgamnu"
   },
   "outputs": [],
   "source": [
    "train_dataset_final = train_dataset.cache().shuffle(\n",
    "    SUFFLE_BUFFER_SIZE,\n",
    "    reshuffle_each_iteration=False\n",
    ").prefetch(PREFETCH_BUFFER_SIZE)\n",
    "\n",
    "validation_dataset_final = val_ds.cache().prefetch(PREFETCH_BUFFER_SIZE)\n",
    "\n",
    "# train_ds = train_ds.cache().shuffle(1000).prefetch(AUTOTUNE)\n",
    "# val_ds = val_ds.cache().prefetch(AUTOTUNE)\n",
    "test_dataset_final = test_dataset.cache().prefetch(PREFETCH_BUFFER_SIZE)"
   ]
  },
  {
   "cell_type": "markdown",
   "metadata": {
    "id": "A-LA7phObP6O"
   },
   "source": [
    "## Nyoba Buat Model\n"
   ]
  },
  {
   "cell_type": "code",
   "execution_count": 24,
   "metadata": {
    "colab": {
     "base_uri": "https://localhost:8080/",
     "height": 833
    },
    "id": "aVi7QJYTTn7a",
    "outputId": "6ff6df81-c825-46ce-fda5-4126344f917c"
   },
   "outputs": [
    {
     "data": {
      "text/html": [
       "<pre style=\"white-space:pre;overflow-x:auto;line-height:normal;font-family:Menlo,'DejaVu Sans Mono',consolas,'Courier New',monospace\"><span style=\"font-weight: bold\">Model: \"sequential_2\"</span>\n",
       "</pre>\n"
      ],
      "text/plain": [
       "\u001b[1mModel: \"sequential_2\"\u001b[0m\n"
      ]
     },
     "metadata": {},
     "output_type": "display_data"
    },
    {
     "data": {
      "text/html": [
       "<pre style=\"white-space:pre;overflow-x:auto;line-height:normal;font-family:Menlo,'DejaVu Sans Mono',consolas,'Courier New',monospace\">┏━━━━━━━━━━━━━━━━━━━━━━━━━━━━━━━━━━━━━━┳━━━━━━━━━━━━━━━━━━━━━━━━━━━━━┳━━━━━━━━━━━━━━━━━┓\n",
       "┃<span style=\"font-weight: bold\"> Layer (type)                         </span>┃<span style=\"font-weight: bold\"> Output Shape                </span>┃<span style=\"font-weight: bold\">         Param # </span>┃\n",
       "┡━━━━━━━━━━━━━━━━━━━━━━━━━━━━━━━━━━━━━━╇━━━━━━━━━━━━━━━━━━━━━━━━━━━━━╇━━━━━━━━━━━━━━━━━┩\n",
       "│ random_flip_2 (<span style=\"color: #0087ff; text-decoration-color: #0087ff\">RandomFlip</span>)           │ (<span style=\"color: #00d7ff; text-decoration-color: #00d7ff\">None</span>, <span style=\"color: #00af00; text-decoration-color: #00af00\">128</span>, <span style=\"color: #00af00; text-decoration-color: #00af00\">128</span>, <span style=\"color: #00af00; text-decoration-color: #00af00\">3</span>)         │               <span style=\"color: #00af00; text-decoration-color: #00af00\">0</span> │\n",
       "├──────────────────────────────────────┼─────────────────────────────┼─────────────────┤\n",
       "│ random_rotation_2 (<span style=\"color: #0087ff; text-decoration-color: #0087ff\">RandomRotation</span>)   │ (<span style=\"color: #00d7ff; text-decoration-color: #00d7ff\">None</span>, <span style=\"color: #00af00; text-decoration-color: #00af00\">128</span>, <span style=\"color: #00af00; text-decoration-color: #00af00\">128</span>, <span style=\"color: #00af00; text-decoration-color: #00af00\">3</span>)         │               <span style=\"color: #00af00; text-decoration-color: #00af00\">0</span> │\n",
       "├──────────────────────────────────────┼─────────────────────────────┼─────────────────┤\n",
       "│ random_zoom_2 (<span style=\"color: #0087ff; text-decoration-color: #0087ff\">RandomZoom</span>)           │ (<span style=\"color: #00d7ff; text-decoration-color: #00d7ff\">None</span>, <span style=\"color: #00af00; text-decoration-color: #00af00\">128</span>, <span style=\"color: #00af00; text-decoration-color: #00af00\">128</span>, <span style=\"color: #00af00; text-decoration-color: #00af00\">3</span>)         │               <span style=\"color: #00af00; text-decoration-color: #00af00\">0</span> │\n",
       "├──────────────────────────────────────┼─────────────────────────────┼─────────────────┤\n",
       "│ random_translation_2                 │ (<span style=\"color: #00d7ff; text-decoration-color: #00d7ff\">None</span>, <span style=\"color: #00af00; text-decoration-color: #00af00\">128</span>, <span style=\"color: #00af00; text-decoration-color: #00af00\">128</span>, <span style=\"color: #00af00; text-decoration-color: #00af00\">3</span>)         │               <span style=\"color: #00af00; text-decoration-color: #00af00\">0</span> │\n",
       "│ (<span style=\"color: #0087ff; text-decoration-color: #0087ff\">RandomTranslation</span>)                  │                             │                 │\n",
       "├──────────────────────────────────────┼─────────────────────────────┼─────────────────┤\n",
       "│ random_brightness_2                  │ (<span style=\"color: #00d7ff; text-decoration-color: #00d7ff\">None</span>, <span style=\"color: #00af00; text-decoration-color: #00af00\">128</span>, <span style=\"color: #00af00; text-decoration-color: #00af00\">128</span>, <span style=\"color: #00af00; text-decoration-color: #00af00\">3</span>)         │               <span style=\"color: #00af00; text-decoration-color: #00af00\">0</span> │\n",
       "│ (<span style=\"color: #0087ff; text-decoration-color: #0087ff\">RandomBrightness</span>)                   │                             │                 │\n",
       "├──────────────────────────────────────┼─────────────────────────────┼─────────────────┤\n",
       "│ random_contrast_2 (<span style=\"color: #0087ff; text-decoration-color: #0087ff\">RandomContrast</span>)   │ (<span style=\"color: #00d7ff; text-decoration-color: #00d7ff\">None</span>, <span style=\"color: #00af00; text-decoration-color: #00af00\">128</span>, <span style=\"color: #00af00; text-decoration-color: #00af00\">128</span>, <span style=\"color: #00af00; text-decoration-color: #00af00\">3</span>)         │               <span style=\"color: #00af00; text-decoration-color: #00af00\">0</span> │\n",
       "├──────────────────────────────────────┼─────────────────────────────┼─────────────────┤\n",
       "│ rescaling_2 (<span style=\"color: #0087ff; text-decoration-color: #0087ff\">Rescaling</span>)              │ (<span style=\"color: #00d7ff; text-decoration-color: #00d7ff\">None</span>, <span style=\"color: #00af00; text-decoration-color: #00af00\">128</span>, <span style=\"color: #00af00; text-decoration-color: #00af00\">128</span>, <span style=\"color: #00af00; text-decoration-color: #00af00\">3</span>)         │               <span style=\"color: #00af00; text-decoration-color: #00af00\">0</span> │\n",
       "├──────────────────────────────────────┼─────────────────────────────┼─────────────────┤\n",
       "│ conv2d_11 (<span style=\"color: #0087ff; text-decoration-color: #0087ff\">Conv2D</span>)                   │ (<span style=\"color: #00d7ff; text-decoration-color: #00d7ff\">None</span>, <span style=\"color: #00af00; text-decoration-color: #00af00\">126</span>, <span style=\"color: #00af00; text-decoration-color: #00af00\">126</span>, <span style=\"color: #00af00; text-decoration-color: #00af00\">32</span>)        │             <span style=\"color: #00af00; text-decoration-color: #00af00\">896</span> │\n",
       "├──────────────────────────────────────┼─────────────────────────────┼─────────────────┤\n",
       "│ max_pooling2d_9 (<span style=\"color: #0087ff; text-decoration-color: #0087ff\">MaxPooling2D</span>)       │ (<span style=\"color: #00d7ff; text-decoration-color: #00d7ff\">None</span>, <span style=\"color: #00af00; text-decoration-color: #00af00\">63</span>, <span style=\"color: #00af00; text-decoration-color: #00af00\">63</span>, <span style=\"color: #00af00; text-decoration-color: #00af00\">32</span>)          │               <span style=\"color: #00af00; text-decoration-color: #00af00\">0</span> │\n",
       "├──────────────────────────────────────┼─────────────────────────────┼─────────────────┤\n",
       "│ conv2d_12 (<span style=\"color: #0087ff; text-decoration-color: #0087ff\">Conv2D</span>)                   │ (<span style=\"color: #00d7ff; text-decoration-color: #00d7ff\">None</span>, <span style=\"color: #00af00; text-decoration-color: #00af00\">61</span>, <span style=\"color: #00af00; text-decoration-color: #00af00\">61</span>, <span style=\"color: #00af00; text-decoration-color: #00af00\">64</span>)          │          <span style=\"color: #00af00; text-decoration-color: #00af00\">18,496</span> │\n",
       "├──────────────────────────────────────┼─────────────────────────────┼─────────────────┤\n",
       "│ max_pooling2d_10 (<span style=\"color: #0087ff; text-decoration-color: #0087ff\">MaxPooling2D</span>)      │ (<span style=\"color: #00d7ff; text-decoration-color: #00d7ff\">None</span>, <span style=\"color: #00af00; text-decoration-color: #00af00\">30</span>, <span style=\"color: #00af00; text-decoration-color: #00af00\">30</span>, <span style=\"color: #00af00; text-decoration-color: #00af00\">64</span>)          │               <span style=\"color: #00af00; text-decoration-color: #00af00\">0</span> │\n",
       "├──────────────────────────────────────┼─────────────────────────────┼─────────────────┤\n",
       "│ dropout_6 (<span style=\"color: #0087ff; text-decoration-color: #0087ff\">Dropout</span>)                  │ (<span style=\"color: #00d7ff; text-decoration-color: #00d7ff\">None</span>, <span style=\"color: #00af00; text-decoration-color: #00af00\">30</span>, <span style=\"color: #00af00; text-decoration-color: #00af00\">30</span>, <span style=\"color: #00af00; text-decoration-color: #00af00\">64</span>)          │               <span style=\"color: #00af00; text-decoration-color: #00af00\">0</span> │\n",
       "├──────────────────────────────────────┼─────────────────────────────┼─────────────────┤\n",
       "│ conv2d_13 (<span style=\"color: #0087ff; text-decoration-color: #0087ff\">Conv2D</span>)                   │ (<span style=\"color: #00d7ff; text-decoration-color: #00d7ff\">None</span>, <span style=\"color: #00af00; text-decoration-color: #00af00\">28</span>, <span style=\"color: #00af00; text-decoration-color: #00af00\">28</span>, <span style=\"color: #00af00; text-decoration-color: #00af00\">128</span>)         │          <span style=\"color: #00af00; text-decoration-color: #00af00\">73,856</span> │\n",
       "├──────────────────────────────────────┼─────────────────────────────┼─────────────────┤\n",
       "│ dropout_7 (<span style=\"color: #0087ff; text-decoration-color: #0087ff\">Dropout</span>)                  │ (<span style=\"color: #00d7ff; text-decoration-color: #00d7ff\">None</span>, <span style=\"color: #00af00; text-decoration-color: #00af00\">28</span>, <span style=\"color: #00af00; text-decoration-color: #00af00\">28</span>, <span style=\"color: #00af00; text-decoration-color: #00af00\">128</span>)         │               <span style=\"color: #00af00; text-decoration-color: #00af00\">0</span> │\n",
       "├──────────────────────────────────────┼─────────────────────────────┼─────────────────┤\n",
       "│ flatten_2 (<span style=\"color: #0087ff; text-decoration-color: #0087ff\">Flatten</span>)                  │ (<span style=\"color: #00d7ff; text-decoration-color: #00d7ff\">None</span>, <span style=\"color: #00af00; text-decoration-color: #00af00\">100352</span>)              │               <span style=\"color: #00af00; text-decoration-color: #00af00\">0</span> │\n",
       "├──────────────────────────────────────┼─────────────────────────────┼─────────────────┤\n",
       "│ dense_4 (<span style=\"color: #0087ff; text-decoration-color: #0087ff\">Dense</span>)                      │ (<span style=\"color: #00d7ff; text-decoration-color: #00d7ff\">None</span>, <span style=\"color: #00af00; text-decoration-color: #00af00\">512</span>)                 │      <span style=\"color: #00af00; text-decoration-color: #00af00\">51,380,736</span> │\n",
       "├──────────────────────────────────────┼─────────────────────────────┼─────────────────┤\n",
       "│ batch_normalization_2                │ (<span style=\"color: #00d7ff; text-decoration-color: #00d7ff\">None</span>, <span style=\"color: #00af00; text-decoration-color: #00af00\">512</span>)                 │           <span style=\"color: #00af00; text-decoration-color: #00af00\">2,048</span> │\n",
       "│ (<span style=\"color: #0087ff; text-decoration-color: #0087ff\">BatchNormalization</span>)                 │                             │                 │\n",
       "├──────────────────────────────────────┼─────────────────────────────┼─────────────────┤\n",
       "│ activation_2 (<span style=\"color: #0087ff; text-decoration-color: #0087ff\">Activation</span>)            │ (<span style=\"color: #00d7ff; text-decoration-color: #00d7ff\">None</span>, <span style=\"color: #00af00; text-decoration-color: #00af00\">512</span>)                 │               <span style=\"color: #00af00; text-decoration-color: #00af00\">0</span> │\n",
       "├──────────────────────────────────────┼─────────────────────────────┼─────────────────┤\n",
       "│ dense_5 (<span style=\"color: #0087ff; text-decoration-color: #0087ff\">Dense</span>)                      │ (<span style=\"color: #00d7ff; text-decoration-color: #00d7ff\">None</span>, <span style=\"color: #00af00; text-decoration-color: #00af00\">34</span>)                  │          <span style=\"color: #00af00; text-decoration-color: #00af00\">17,442</span> │\n",
       "└──────────────────────────────────────┴─────────────────────────────┴─────────────────┘\n",
       "</pre>\n"
      ],
      "text/plain": [
       "┏━━━━━━━━━━━━━━━━━━━━━━━━━━━━━━━━━━━━━━┳━━━━━━━━━━━━━━━━━━━━━━━━━━━━━┳━━━━━━━━━━━━━━━━━┓\n",
       "┃\u001b[1m \u001b[0m\u001b[1mLayer (type)                        \u001b[0m\u001b[1m \u001b[0m┃\u001b[1m \u001b[0m\u001b[1mOutput Shape               \u001b[0m\u001b[1m \u001b[0m┃\u001b[1m \u001b[0m\u001b[1m        Param #\u001b[0m\u001b[1m \u001b[0m┃\n",
       "┡━━━━━━━━━━━━━━━━━━━━━━━━━━━━━━━━━━━━━━╇━━━━━━━━━━━━━━━━━━━━━━━━━━━━━╇━━━━━━━━━━━━━━━━━┩\n",
       "│ random_flip_2 (\u001b[38;5;33mRandomFlip\u001b[0m)           │ (\u001b[38;5;45mNone\u001b[0m, \u001b[38;5;34m128\u001b[0m, \u001b[38;5;34m128\u001b[0m, \u001b[38;5;34m3\u001b[0m)         │               \u001b[38;5;34m0\u001b[0m │\n",
       "├──────────────────────────────────────┼─────────────────────────────┼─────────────────┤\n",
       "│ random_rotation_2 (\u001b[38;5;33mRandomRotation\u001b[0m)   │ (\u001b[38;5;45mNone\u001b[0m, \u001b[38;5;34m128\u001b[0m, \u001b[38;5;34m128\u001b[0m, \u001b[38;5;34m3\u001b[0m)         │               \u001b[38;5;34m0\u001b[0m │\n",
       "├──────────────────────────────────────┼─────────────────────────────┼─────────────────┤\n",
       "│ random_zoom_2 (\u001b[38;5;33mRandomZoom\u001b[0m)           │ (\u001b[38;5;45mNone\u001b[0m, \u001b[38;5;34m128\u001b[0m, \u001b[38;5;34m128\u001b[0m, \u001b[38;5;34m3\u001b[0m)         │               \u001b[38;5;34m0\u001b[0m │\n",
       "├──────────────────────────────────────┼─────────────────────────────┼─────────────────┤\n",
       "│ random_translation_2                 │ (\u001b[38;5;45mNone\u001b[0m, \u001b[38;5;34m128\u001b[0m, \u001b[38;5;34m128\u001b[0m, \u001b[38;5;34m3\u001b[0m)         │               \u001b[38;5;34m0\u001b[0m │\n",
       "│ (\u001b[38;5;33mRandomTranslation\u001b[0m)                  │                             │                 │\n",
       "├──────────────────────────────────────┼─────────────────────────────┼─────────────────┤\n",
       "│ random_brightness_2                  │ (\u001b[38;5;45mNone\u001b[0m, \u001b[38;5;34m128\u001b[0m, \u001b[38;5;34m128\u001b[0m, \u001b[38;5;34m3\u001b[0m)         │               \u001b[38;5;34m0\u001b[0m │\n",
       "│ (\u001b[38;5;33mRandomBrightness\u001b[0m)                   │                             │                 │\n",
       "├──────────────────────────────────────┼─────────────────────────────┼─────────────────┤\n",
       "│ random_contrast_2 (\u001b[38;5;33mRandomContrast\u001b[0m)   │ (\u001b[38;5;45mNone\u001b[0m, \u001b[38;5;34m128\u001b[0m, \u001b[38;5;34m128\u001b[0m, \u001b[38;5;34m3\u001b[0m)         │               \u001b[38;5;34m0\u001b[0m │\n",
       "├──────────────────────────────────────┼─────────────────────────────┼─────────────────┤\n",
       "│ rescaling_2 (\u001b[38;5;33mRescaling\u001b[0m)              │ (\u001b[38;5;45mNone\u001b[0m, \u001b[38;5;34m128\u001b[0m, \u001b[38;5;34m128\u001b[0m, \u001b[38;5;34m3\u001b[0m)         │               \u001b[38;5;34m0\u001b[0m │\n",
       "├──────────────────────────────────────┼─────────────────────────────┼─────────────────┤\n",
       "│ conv2d_11 (\u001b[38;5;33mConv2D\u001b[0m)                   │ (\u001b[38;5;45mNone\u001b[0m, \u001b[38;5;34m126\u001b[0m, \u001b[38;5;34m126\u001b[0m, \u001b[38;5;34m32\u001b[0m)        │             \u001b[38;5;34m896\u001b[0m │\n",
       "├──────────────────────────────────────┼─────────────────────────────┼─────────────────┤\n",
       "│ max_pooling2d_9 (\u001b[38;5;33mMaxPooling2D\u001b[0m)       │ (\u001b[38;5;45mNone\u001b[0m, \u001b[38;5;34m63\u001b[0m, \u001b[38;5;34m63\u001b[0m, \u001b[38;5;34m32\u001b[0m)          │               \u001b[38;5;34m0\u001b[0m │\n",
       "├──────────────────────────────────────┼─────────────────────────────┼─────────────────┤\n",
       "│ conv2d_12 (\u001b[38;5;33mConv2D\u001b[0m)                   │ (\u001b[38;5;45mNone\u001b[0m, \u001b[38;5;34m61\u001b[0m, \u001b[38;5;34m61\u001b[0m, \u001b[38;5;34m64\u001b[0m)          │          \u001b[38;5;34m18,496\u001b[0m │\n",
       "├──────────────────────────────────────┼─────────────────────────────┼─────────────────┤\n",
       "│ max_pooling2d_10 (\u001b[38;5;33mMaxPooling2D\u001b[0m)      │ (\u001b[38;5;45mNone\u001b[0m, \u001b[38;5;34m30\u001b[0m, \u001b[38;5;34m30\u001b[0m, \u001b[38;5;34m64\u001b[0m)          │               \u001b[38;5;34m0\u001b[0m │\n",
       "├──────────────────────────────────────┼─────────────────────────────┼─────────────────┤\n",
       "│ dropout_6 (\u001b[38;5;33mDropout\u001b[0m)                  │ (\u001b[38;5;45mNone\u001b[0m, \u001b[38;5;34m30\u001b[0m, \u001b[38;5;34m30\u001b[0m, \u001b[38;5;34m64\u001b[0m)          │               \u001b[38;5;34m0\u001b[0m │\n",
       "├──────────────────────────────────────┼─────────────────────────────┼─────────────────┤\n",
       "│ conv2d_13 (\u001b[38;5;33mConv2D\u001b[0m)                   │ (\u001b[38;5;45mNone\u001b[0m, \u001b[38;5;34m28\u001b[0m, \u001b[38;5;34m28\u001b[0m, \u001b[38;5;34m128\u001b[0m)         │          \u001b[38;5;34m73,856\u001b[0m │\n",
       "├──────────────────────────────────────┼─────────────────────────────┼─────────────────┤\n",
       "│ dropout_7 (\u001b[38;5;33mDropout\u001b[0m)                  │ (\u001b[38;5;45mNone\u001b[0m, \u001b[38;5;34m28\u001b[0m, \u001b[38;5;34m28\u001b[0m, \u001b[38;5;34m128\u001b[0m)         │               \u001b[38;5;34m0\u001b[0m │\n",
       "├──────────────────────────────────────┼─────────────────────────────┼─────────────────┤\n",
       "│ flatten_2 (\u001b[38;5;33mFlatten\u001b[0m)                  │ (\u001b[38;5;45mNone\u001b[0m, \u001b[38;5;34m100352\u001b[0m)              │               \u001b[38;5;34m0\u001b[0m │\n",
       "├──────────────────────────────────────┼─────────────────────────────┼─────────────────┤\n",
       "│ dense_4 (\u001b[38;5;33mDense\u001b[0m)                      │ (\u001b[38;5;45mNone\u001b[0m, \u001b[38;5;34m512\u001b[0m)                 │      \u001b[38;5;34m51,380,736\u001b[0m │\n",
       "├──────────────────────────────────────┼─────────────────────────────┼─────────────────┤\n",
       "│ batch_normalization_2                │ (\u001b[38;5;45mNone\u001b[0m, \u001b[38;5;34m512\u001b[0m)                 │           \u001b[38;5;34m2,048\u001b[0m │\n",
       "│ (\u001b[38;5;33mBatchNormalization\u001b[0m)                 │                             │                 │\n",
       "├──────────────────────────────────────┼─────────────────────────────┼─────────────────┤\n",
       "│ activation_2 (\u001b[38;5;33mActivation\u001b[0m)            │ (\u001b[38;5;45mNone\u001b[0m, \u001b[38;5;34m512\u001b[0m)                 │               \u001b[38;5;34m0\u001b[0m │\n",
       "├──────────────────────────────────────┼─────────────────────────────┼─────────────────┤\n",
       "│ dense_5 (\u001b[38;5;33mDense\u001b[0m)                      │ (\u001b[38;5;45mNone\u001b[0m, \u001b[38;5;34m34\u001b[0m)                  │          \u001b[38;5;34m17,442\u001b[0m │\n",
       "└──────────────────────────────────────┴─────────────────────────────┴─────────────────┘\n"
      ]
     },
     "metadata": {},
     "output_type": "display_data"
    },
    {
     "data": {
      "text/html": [
       "<pre style=\"white-space:pre;overflow-x:auto;line-height:normal;font-family:Menlo,'DejaVu Sans Mono',consolas,'Courier New',monospace\"><span style=\"font-weight: bold\"> Total params: </span><span style=\"color: #00af00; text-decoration-color: #00af00\">51,493,474</span> (196.43 MB)\n",
       "</pre>\n"
      ],
      "text/plain": [
       "\u001b[1m Total params: \u001b[0m\u001b[38;5;34m51,493,474\u001b[0m (196.43 MB)\n"
      ]
     },
     "metadata": {},
     "output_type": "display_data"
    },
    {
     "data": {
      "text/html": [
       "<pre style=\"white-space:pre;overflow-x:auto;line-height:normal;font-family:Menlo,'DejaVu Sans Mono',consolas,'Courier New',monospace\"><span style=\"font-weight: bold\"> Trainable params: </span><span style=\"color: #00af00; text-decoration-color: #00af00\">51,492,450</span> (196.43 MB)\n",
       "</pre>\n"
      ],
      "text/plain": [
       "\u001b[1m Trainable params: \u001b[0m\u001b[38;5;34m51,492,450\u001b[0m (196.43 MB)\n"
      ]
     },
     "metadata": {},
     "output_type": "display_data"
    },
    {
     "data": {
      "text/html": [
       "<pre style=\"white-space:pre;overflow-x:auto;line-height:normal;font-family:Menlo,'DejaVu Sans Mono',consolas,'Courier New',monospace\"><span style=\"font-weight: bold\"> Non-trainable params: </span><span style=\"color: #00af00; text-decoration-color: #00af00\">1,024</span> (4.00 KB)\n",
       "</pre>\n"
      ],
      "text/plain": [
       "\u001b[1m Non-trainable params: \u001b[0m\u001b[38;5;34m1,024\u001b[0m (4.00 KB)\n"
      ]
     },
     "metadata": {},
     "output_type": "display_data"
    }
   ],
   "source": [
    "models = tf.keras.models\n",
    "layers = tf.keras.layers\n",
    "\n",
    "\n",
    "# model = tf.keras.models.Sequential([\n",
    "#     # menyesuaikan ukuran dimensi gambar + 3 rgb\n",
    "#     tf.keras.Input(shape=(IMG_HEIGHT, IMG_WIDTH, 3)),\n",
    "\n",
    "#     # augmen\n",
    "#     tf.keras.layers.RandomFlip(\"horizontal\"),\n",
    "#     tf.keras.layers.RandomRotation(0.2),\n",
    "#     tf.keras.layers.RandomZoom(0.2),\n",
    "#     #\n",
    "#     tf.keras.layers.Rescaling(1./255),\n",
    "#     tf.keras.layers.Conv2D(8, (3, 3), activation='relu'),\n",
    "#     tf.keras.layers.BatchNormalization(),\n",
    "#     tf.keras.layers.MaxPooling2D(2, 2),\n",
    "#     tf.keras.layers.Conv2D(16, (3, 3), activation='relu'),\n",
    "#     tf.keras.layers.BatchNormalization(),\n",
    "#     tf.keras.layers.MaxPooling2D(2, 2),\n",
    "#     tf.keras.layers.Conv2D(32, (3, 3), activation='relu'),\n",
    "#     tf.keras.layers.BatchNormalization(),\n",
    "#     tf.keras.layers.MaxPooling2D(2, 2),\n",
    "#     # diflatten untuk mendapatkan matriks 2 dimensi lagi\n",
    "#     tf.keras.layers.Flatten(),\n",
    "#     tf.keras.layers.Dense(64,\n",
    "#                           activation='relu',\n",
    "#                           # kernel_regularizer=regularizers.l2(0.01)\n",
    "#                           ),\n",
    "#     tf.keras.layers.Dropout(0.1),\n",
    "#     tf.keras.layers.Dense(34, activation='softmax')\n",
    "# ])\n",
    "\n",
    "model = tf.keras.models.Sequential([\n",
    "    tf.keras.Input(shape=(IMG_HEIGHT, IMG_WIDTH, 3)),\n",
    "\n",
    "    # Augmentasi yang lebih agresif\n",
    "    tf.keras.layers.RandomFlip(\"horizontal_and_vertical\"),\n",
    "    tf.keras.layers.RandomRotation(0.2, fill_mode=\"nearest\"),\n",
    "    tf.keras.layers.RandomZoom(0.2, fill_mode=\"nearest\"),\n",
    "    tf.keras.layers.RandomTranslation(0.2, 0.2, fill_mode=\"nearest\"),\n",
    "    tf.keras.layers.RandomBrightness(0.2,),\n",
    "    tf.keras.layers.RandomContrast(0.2),\n",
    "\n",
    "    tf.keras.layers.Rescaling(1./255),\n",
    "\n",
    "    # tf.keras.layers.Conv2D(16, (3, 3), activation=\"relu\"),\n",
    "    # # tf.keras.layers.BatchNormalization(),\n",
    "    # tf.keras.layers.MaxPooling2D(2, 2),\n",
    "\n",
    "    tf.keras.layers.Conv2D(32, (3, 3), activation=\"relu\"),\n",
    "    # tf.keras.layers.BatchNormalization(),\n",
    "    tf.keras.layers.MaxPooling2D(2, 2),\n",
    "    # tf.keras.layers.Dropout(0.2),\n",
    "\n",
    "    tf.keras.layers.Conv2D(64, (3, 3), activation=\"relu\"),\n",
    "    # tf.keras.layers.Conv2D(64, (3, 3), activation=\"relu\", kernel_regularizer=l2(0.001)),\n",
    "    # tf.keras.layers.BatchNormalization()\n",
    "    tf.keras.layers.MaxPooling2D(2, 2),\n",
    "    tf.keras.layers.Dropout(0.3),\n",
    "\n",
    "    # tf.keras.layers.Conv2D(128, (3, 3), activation=\"relu\"),\n",
    "    # # tf.keras.layers.Conv2D(128, (3, 3), activation=\"relu\", kernel_regularizer=l2(0.001)),\n",
    "    # # tf.keras.layers.BatchNormalization(),\n",
    "    # tf.keras.layers.Conv2D(256, (3, 3), activation=\"relu\"),\n",
    "    # tf.keras.layers.MaxPooling2D(2, 2),\n",
    "    # tf.keras.layers.Dropout(0.3),\n",
    "\n",
    "    tf.keras.layers.Conv2D(128, (3, 3), activation=\"relu\"),\n",
    "    # tf.keras.layers.Conv2D(512, (3, 3), activation=\"relu\", kernel_regularizer=l2(0.001)),\n",
    "    # tf.keras.layers.BatchNormalization(),\n",
    "    # tf.keras.layers.MaxPooling2D(2, 2),\n",
    "    tf.keras.layers.Dropout(0.3),\n",
    "\n",
    "\n",
    "    tf.keras.layers.Flatten(),\n",
    "\n",
    "    # Dense layers dengan regularisasi yang lebih kuat\n",
    "    tf.keras.layers.Dense(512,),\n",
    "\n",
    "    tf.keras.layers.BatchNormalization(),\n",
    "    tf.keras.layers.Activation('relu'),\n",
    "    # tf.keras.layers.Dropout(0.5),\n",
    "\n",
    "    tf.keras.layers.Dense(34, activation='softmax')\n",
    "])\n",
    "\n",
    "\n",
    "# model = models.Sequential([\n",
    "#     tf.keras.Input(shape=(IMG_HEIGHT, IMG_WIDTH, 3)),\n",
    "\n",
    "#     # Augmentasi yang lebih agresif\n",
    "#     tf.keras.layers.RandomFlip(\"horizontal_and_vertical\"),\n",
    "#     tf.keras.layers.RandomRotation(0.3),\n",
    "#     tf.keras.layers.RandomZoom(0.3),\n",
    "#     tf.keras.layers.RandomBrightness(0.2),\n",
    "#     tf.keras.layers.RandomContrast(0.2),\n",
    "\n",
    "#     tf.keras.layers.Rescaling(1./255),\n",
    "#     layers.GlobalAveragePooling2D(),\n",
    "#     layers.Dropout(0.2),\n",
    "#     layers.Dense(128, activation='relu'),\n",
    "#     layers.Dropout(0.2),\n",
    "#     layers.Dense(34, activation='softmax')\n",
    "#     ])\n",
    "\n",
    "model.summary()"
   ]
  },
  {
   "cell_type": "code",
   "execution_count": 25,
   "metadata": {
    "id": "QHmVb1ygdcs9"
   },
   "outputs": [],
   "source": [
    "initial_lr = 0.001\n",
    "# lr_schedule = tf.keras.optimizers.schedules.ExponentialDecay(\n",
    "#     initial_lr,\n",
    "#     decay_steps=1000,\n",
    "#     decay_rate=0.9\n",
    "# )\n",
    "\n",
    "# compile dahulu\n",
    "# model.compile(\n",
    "#     optimizer=tf.keras.optimizers.RMSprop(learning_rate=1.75e-4, ),\n",
    "#     loss='categorical_crossentropy',\n",
    "#     metrics=['accuracy'],\n",
    "# )\n",
    "\n",
    "model.compile(\n",
    "    optimizer=tf.keras.optimizers.RMSprop(learning_rate=0.008),\n",
    "    loss='categorical_crossentropy',\n",
    "    metrics=['accuracy']\n",
    ")"
   ]
  },
  {
   "cell_type": "code",
   "execution_count": 14,
   "metadata": {
    "id": "powSRjOIYOkk"
   },
   "outputs": [],
   "source": [
    "# untuk mencari learning rate\n",
    "lr_scheduler = tf.keras.callbacks.LearningRateScheduler(lambda epoch: 1e-4 * 10**(epoch / 20))\n",
    "\n",
    "early_stopping = tf.keras.callbacks.EarlyStopping(\n",
    "    monitor='val_loss',\n",
    "    patience=15,\n",
    "    restore_best_weights=True\n",
    ")\n",
    "\n",
    "reduce_lr = tf.keras.callbacks.ReduceLROnPlateau(\n",
    "    monitor='val_loss',\n",
    "    factor=0.2,\n",
    "    patience=5,\n",
    "    min_lr=0.00001\n",
    ")\n"
   ]
  },
  {
   "cell_type": "code",
   "execution_count": 26,
   "metadata": {
    "colab": {
     "base_uri": "https://localhost:8080/",
     "height": 1000
    },
    "id": "IticwhFud-5z",
    "outputId": "e9fa82a6-8a7d-40cb-b9b1-bfeaece80018"
   },
   "outputs": [
    {
     "name": "stdout",
     "output_type": "stream",
     "text": [
      "Epoch 1/100\n",
      "557/557 - 27s - 49ms/step - accuracy: 0.1059 - loss: 3.4070 - val_accuracy: 0.0972 - val_loss: 3.5310\n",
      "Epoch 2/100\n",
      "557/557 - 25s - 45ms/step - accuracy: 0.1660 - loss: 2.9658 - val_accuracy: 0.0996 - val_loss: 3.6221\n",
      "Epoch 3/100\n",
      "557/557 - 41s - 74ms/step - accuracy: 0.1866 - loss: 2.8846 - val_accuracy: 0.1448 - val_loss: 3.0496\n",
      "Epoch 4/100\n",
      "557/557 - 25s - 45ms/step - accuracy: 0.1950 - loss: 2.8493 - val_accuracy: 0.1412 - val_loss: 3.0236\n",
      "Epoch 5/100\n",
      "557/557 - 41s - 73ms/step - accuracy: 0.2051 - loss: 2.8173 - val_accuracy: 0.1027 - val_loss: 3.3536\n",
      "Epoch 6/100\n",
      "557/557 - 25s - 45ms/step - accuracy: 0.2112 - loss: 2.7871 - val_accuracy: 0.1708 - val_loss: 3.0774\n",
      "Epoch 7/100\n",
      "557/557 - 25s - 45ms/step - accuracy: 0.2183 - loss: 2.7692 - val_accuracy: 0.1993 - val_loss: 2.9190\n",
      "Epoch 8/100\n",
      "557/557 - 25s - 45ms/step - accuracy: 0.2201 - loss: 2.7509 - val_accuracy: 0.2025 - val_loss: 2.9127\n",
      "Epoch 9/100\n",
      "557/557 - 41s - 73ms/step - accuracy: 0.2277 - loss: 2.7397 - val_accuracy: 0.1981 - val_loss: 2.9489\n",
      "Epoch 10/100\n",
      "557/557 - 25s - 45ms/step - accuracy: 0.2299 - loss: 2.7243 - val_accuracy: 0.1458 - val_loss: 3.2117\n",
      "Epoch 11/100\n",
      "557/557 - 41s - 74ms/step - accuracy: 0.2348 - loss: 2.7121 - val_accuracy: 0.1481 - val_loss: 3.1258\n",
      "Epoch 12/100\n",
      "557/557 - 25s - 45ms/step - accuracy: 0.2374 - loss: 2.7039 - val_accuracy: 0.2164 - val_loss: 2.8537\n",
      "Epoch 13/100\n",
      "557/557 - 41s - 74ms/step - accuracy: 0.2386 - loss: 2.6856 - val_accuracy: 0.2035 - val_loss: 2.9826\n",
      "Epoch 14/100\n",
      "557/557 - 41s - 74ms/step - accuracy: 0.2390 - loss: 2.6844 - val_accuracy: 0.2182 - val_loss: 2.8452\n",
      "Epoch 15/100\n",
      "557/557 - 41s - 73ms/step - accuracy: 0.2472 - loss: 2.6607 - val_accuracy: 0.2222 - val_loss: 2.8564\n",
      "Epoch 16/100\n",
      "557/557 - 25s - 45ms/step - accuracy: 0.2558 - loss: 2.6322 - val_accuracy: 0.2527 - val_loss: 2.7190\n",
      "Epoch 17/100\n",
      "557/557 - 41s - 73ms/step - accuracy: 0.2622 - loss: 2.6132 - val_accuracy: 0.2202 - val_loss: 2.9036\n",
      "Epoch 18/100\n",
      "557/557 - 41s - 74ms/step - accuracy: 0.2687 - loss: 2.5885 - val_accuracy: 0.1493 - val_loss: 3.7457\n",
      "Epoch 19/100\n",
      "557/557 - 25s - 45ms/step - accuracy: 0.2750 - loss: 2.5685 - val_accuracy: 0.1705 - val_loss: 3.5045\n",
      "Epoch 20/100\n",
      "557/557 - 25s - 45ms/step - accuracy: 0.2749 - loss: 2.5605 - val_accuracy: 0.2370 - val_loss: 2.7873\n",
      "Epoch 21/100\n",
      "557/557 - 41s - 74ms/step - accuracy: 0.2830 - loss: 2.5356 - val_accuracy: 0.2045 - val_loss: 3.0677\n",
      "Epoch 22/100\n",
      "557/557 - 25s - 45ms/step - accuracy: 0.2869 - loss: 2.5229 - val_accuracy: 0.1993 - val_loss: 3.1257\n",
      "Epoch 23/100\n",
      "557/557 - 25s - 45ms/step - accuracy: 0.2908 - loss: 2.5147 - val_accuracy: 0.2159 - val_loss: 3.0669\n",
      "Epoch 24/100\n",
      "557/557 - 41s - 73ms/step - accuracy: 0.2970 - loss: 2.4897 - val_accuracy: 0.2613 - val_loss: 2.7776\n",
      "Epoch 25/100\n",
      "557/557 - 41s - 74ms/step - accuracy: 0.2900 - loss: 2.5006 - val_accuracy: 0.2155 - val_loss: 3.0412\n",
      "Epoch 26/100\n",
      "557/557 - 25s - 45ms/step - accuracy: 0.2942 - loss: 2.4875 - val_accuracy: 0.2145 - val_loss: 3.2016\n",
      "Epoch 27/100\n",
      "557/557 - 41s - 73ms/step - accuracy: 0.2961 - loss: 2.4795 - val_accuracy: 0.2489 - val_loss: 2.8605\n",
      "Epoch 28/100\n"
     ]
    },
    {
     "name": "stderr",
     "output_type": "stream",
     "text": [
      "ERROR:root:Internal Python error in the inspect module.\n",
      "Below is the traceback from this internal error.\n",
      "\n"
     ]
    },
    {
     "name": "stdout",
     "output_type": "stream",
     "text": [
      "Traceback (most recent call last):\n",
      "  File \"/usr/local/lib/python3.10/dist-packages/IPython/core/interactiveshell.py\", line 3553, in run_code\n",
      "    exec(code_obj, self.user_global_ns, self.user_ns)\n",
      "  File \"<ipython-input-26-8711745fc2be>\", line 1, in <cell line: 1>\n",
      "    history = model.fit(\n",
      "  File \"/usr/local/lib/python3.10/dist-packages/keras/src/utils/traceback_utils.py\", line 117, in error_handler\n",
      "    return fn(*args, **kwargs)\n",
      "  File \"/usr/local/lib/python3.10/dist-packages/keras/src/backend/tensorflow/trainer.py\", line 319, in fit\n",
      "    callbacks.on_train_batch_begin(step)\n",
      "  File \"/usr/local/lib/python3.10/dist-packages/keras/src/callbacks/callback_list.py\", line 98, in on_train_batch_begin\n",
      "    def on_train_batch_begin(self, batch, logs=None):\n",
      "KeyboardInterrupt\n",
      "\n",
      "During handling of the above exception, another exception occurred:\n",
      "\n",
      "Traceback (most recent call last):\n",
      "  File \"/usr/local/lib/python3.10/dist-packages/IPython/core/interactiveshell.py\", line 2099, in showtraceback\n",
      "    stb = value._render_traceback_()\n",
      "AttributeError: 'KeyboardInterrupt' object has no attribute '_render_traceback_'\n",
      "\n",
      "During handling of the above exception, another exception occurred:\n",
      "\n",
      "Traceback (most recent call last):\n",
      "  File \"/usr/local/lib/python3.10/dist-packages/IPython/core/ultratb.py\", line 1101, in get_records\n",
      "    return _fixed_getinnerframes(etb, number_of_lines_of_context, tb_offset)\n",
      "  File \"/usr/local/lib/python3.10/dist-packages/IPython/core/ultratb.py\", line 248, in wrapped\n",
      "    return f(*args, **kwargs)\n",
      "  File \"/usr/local/lib/python3.10/dist-packages/IPython/core/ultratb.py\", line 281, in _fixed_getinnerframes\n",
      "    records = fix_frame_records_filenames(inspect.getinnerframes(etb, context))\n",
      "  File \"/usr/lib/python3.10/inspect.py\", line 1662, in getinnerframes\n",
      "    frameinfo = (tb.tb_frame,) + getframeinfo(tb, context)\n",
      "  File \"/usr/lib/python3.10/inspect.py\", line 1624, in getframeinfo\n",
      "    lines, lnum = findsource(frame)\n",
      "  File \"/usr/local/lib/python3.10/dist-packages/IPython/core/ultratb.py\", line 182, in findsource\n",
      "    lines = linecache.getlines(file, globals_dict)\n",
      "  File \"/usr/lib/python3.10/linecache.py\", line 46, in getlines\n",
      "    return updatecache(filename, module_globals)\n",
      "  File \"/usr/lib/python3.10/linecache.py\", line 136, in updatecache\n",
      "    with tokenize.open(fullname) as fp:\n",
      "  File \"/usr/lib/python3.10/tokenize.py\", line 396, in open\n",
      "    encoding, lines = detect_encoding(buffer.readline)\n",
      "  File \"/usr/lib/python3.10/tokenize.py\", line 365, in detect_encoding\n",
      "    first = read_or_stop()\n",
      "  File \"/usr/lib/python3.10/tokenize.py\", line 323, in read_or_stop\n",
      "    return readline()\n",
      "KeyboardInterrupt\n"
     ]
    },
    {
     "ename": "TypeError",
     "evalue": "object of type 'NoneType' has no len()",
     "output_type": "error",
     "traceback": [
      "\u001b[0;31m---------------------------------------------------------------------------\u001b[0m",
      "\u001b[0;31mKeyboardInterrupt\u001b[0m                         Traceback (most recent call last)",
      "    \u001b[0;31m[... skipping hidden 1 frame]\u001b[0m\n",
      "\u001b[0;32m<ipython-input-26-8711745fc2be>\u001b[0m in \u001b[0;36m<cell line: 1>\u001b[0;34m()\u001b[0m\n\u001b[0;32m----> 1\u001b[0;31m history = model.fit(\n\u001b[0m\u001b[1;32m      2\u001b[0m     \u001b[0mtrain_dataset_final\u001b[0m\u001b[0;34m,\u001b[0m\u001b[0;34m\u001b[0m\u001b[0;34m\u001b[0m\u001b[0m\n\u001b[1;32m      3\u001b[0m     \u001b[0mvalidation_data\u001b[0m\u001b[0;34m=\u001b[0m\u001b[0mvalidation_dataset_final\u001b[0m\u001b[0;34m,\u001b[0m\u001b[0;34m\u001b[0m\u001b[0;34m\u001b[0m\u001b[0m\n",
      "\u001b[0;32m/usr/local/lib/python3.10/dist-packages/keras/src/utils/traceback_utils.py\u001b[0m in \u001b[0;36merror_handler\u001b[0;34m(*args, **kwargs)\u001b[0m\n\u001b[1;32m    116\u001b[0m         \u001b[0;32mtry\u001b[0m\u001b[0;34m:\u001b[0m\u001b[0;34m\u001b[0m\u001b[0;34m\u001b[0m\u001b[0m\n\u001b[0;32m--> 117\u001b[0;31m             \u001b[0;32mreturn\u001b[0m \u001b[0mfn\u001b[0m\u001b[0;34m(\u001b[0m\u001b[0;34m*\u001b[0m\u001b[0margs\u001b[0m\u001b[0;34m,\u001b[0m \u001b[0;34m**\u001b[0m\u001b[0mkwargs\u001b[0m\u001b[0;34m)\u001b[0m\u001b[0;34m\u001b[0m\u001b[0;34m\u001b[0m\u001b[0m\n\u001b[0m\u001b[1;32m    118\u001b[0m         \u001b[0;32mexcept\u001b[0m \u001b[0mException\u001b[0m \u001b[0;32mas\u001b[0m \u001b[0me\u001b[0m\u001b[0;34m:\u001b[0m\u001b[0;34m\u001b[0m\u001b[0;34m\u001b[0m\u001b[0m\n",
      "\u001b[0;32m/usr/local/lib/python3.10/dist-packages/keras/src/backend/tensorflow/trainer.py\u001b[0m in \u001b[0;36mfit\u001b[0;34m(self, x, y, batch_size, epochs, verbose, callbacks, validation_split, validation_data, shuffle, class_weight, sample_weight, initial_epoch, steps_per_epoch, validation_steps, validation_batch_size, validation_freq)\u001b[0m\n\u001b[1;32m    318\u001b[0m                 \u001b[0;32mfor\u001b[0m \u001b[0mstep\u001b[0m\u001b[0;34m,\u001b[0m \u001b[0miterator\u001b[0m \u001b[0;32min\u001b[0m \u001b[0mepoch_iterator\u001b[0m\u001b[0;34m.\u001b[0m\u001b[0menumerate_epoch\u001b[0m\u001b[0;34m(\u001b[0m\u001b[0;34m)\u001b[0m\u001b[0;34m:\u001b[0m\u001b[0;34m\u001b[0m\u001b[0;34m\u001b[0m\u001b[0m\n\u001b[0;32m--> 319\u001b[0;31m                     \u001b[0mcallbacks\u001b[0m\u001b[0;34m.\u001b[0m\u001b[0mon_train_batch_begin\u001b[0m\u001b[0;34m(\u001b[0m\u001b[0mstep\u001b[0m\u001b[0;34m)\u001b[0m\u001b[0;34m\u001b[0m\u001b[0;34m\u001b[0m\u001b[0m\n\u001b[0m\u001b[1;32m    320\u001b[0m                     \u001b[0mlogs\u001b[0m \u001b[0;34m=\u001b[0m \u001b[0mself\u001b[0m\u001b[0;34m.\u001b[0m\u001b[0mtrain_function\u001b[0m\u001b[0;34m(\u001b[0m\u001b[0miterator\u001b[0m\u001b[0;34m)\u001b[0m\u001b[0;34m\u001b[0m\u001b[0;34m\u001b[0m\u001b[0m\n",
      "\u001b[0;32m/usr/local/lib/python3.10/dist-packages/keras/src/callbacks/callback_list.py\u001b[0m in \u001b[0;36mon_train_batch_begin\u001b[0;34m(self, batch, logs)\u001b[0m\n\u001b[1;32m     97\u001b[0m \u001b[0;34m\u001b[0m\u001b[0m\n\u001b[0;32m---> 98\u001b[0;31m     \u001b[0;32mdef\u001b[0m \u001b[0mon_train_batch_begin\u001b[0m\u001b[0;34m(\u001b[0m\u001b[0mself\u001b[0m\u001b[0;34m,\u001b[0m \u001b[0mbatch\u001b[0m\u001b[0;34m,\u001b[0m \u001b[0mlogs\u001b[0m\u001b[0;34m=\u001b[0m\u001b[0;32mNone\u001b[0m\u001b[0;34m)\u001b[0m\u001b[0;34m:\u001b[0m\u001b[0;34m\u001b[0m\u001b[0;34m\u001b[0m\u001b[0m\n\u001b[0m\u001b[1;32m     99\u001b[0m         \u001b[0mlogs\u001b[0m \u001b[0;34m=\u001b[0m \u001b[0mlogs\u001b[0m \u001b[0;32mor\u001b[0m \u001b[0;34m{\u001b[0m\u001b[0;34m}\u001b[0m\u001b[0;34m\u001b[0m\u001b[0;34m\u001b[0m\u001b[0m\n",
      "\u001b[0;31mKeyboardInterrupt\u001b[0m: ",
      "\nDuring handling of the above exception, another exception occurred:\n",
      "\u001b[0;31mAttributeError\u001b[0m                            Traceback (most recent call last)",
      "\u001b[0;32m/usr/local/lib/python3.10/dist-packages/IPython/core/interactiveshell.py\u001b[0m in \u001b[0;36mshowtraceback\u001b[0;34m(self, exc_tuple, filename, tb_offset, exception_only, running_compiled_code)\u001b[0m\n\u001b[1;32m   2098\u001b[0m                         \u001b[0;31m# in the engines. This should return a list of strings.\u001b[0m\u001b[0;34m\u001b[0m\u001b[0;34m\u001b[0m\u001b[0m\n\u001b[0;32m-> 2099\u001b[0;31m                         \u001b[0mstb\u001b[0m \u001b[0;34m=\u001b[0m \u001b[0mvalue\u001b[0m\u001b[0;34m.\u001b[0m\u001b[0m_render_traceback_\u001b[0m\u001b[0;34m(\u001b[0m\u001b[0;34m)\u001b[0m\u001b[0;34m\u001b[0m\u001b[0;34m\u001b[0m\u001b[0m\n\u001b[0m\u001b[1;32m   2100\u001b[0m                     \u001b[0;32mexcept\u001b[0m \u001b[0mException\u001b[0m\u001b[0;34m:\u001b[0m\u001b[0;34m\u001b[0m\u001b[0;34m\u001b[0m\u001b[0m\n",
      "\u001b[0;31mAttributeError\u001b[0m: 'KeyboardInterrupt' object has no attribute '_render_traceback_'",
      "\nDuring handling of the above exception, another exception occurred:\n",
      "\u001b[0;31mTypeError\u001b[0m                                 Traceback (most recent call last)",
      "    \u001b[0;31m[... skipping hidden 1 frame]\u001b[0m\n",
      "\u001b[0;32m/usr/local/lib/python3.10/dist-packages/IPython/core/interactiveshell.py\u001b[0m in \u001b[0;36mshowtraceback\u001b[0;34m(self, exc_tuple, filename, tb_offset, exception_only, running_compiled_code)\u001b[0m\n\u001b[1;32m   2099\u001b[0m                         \u001b[0mstb\u001b[0m \u001b[0;34m=\u001b[0m \u001b[0mvalue\u001b[0m\u001b[0;34m.\u001b[0m\u001b[0m_render_traceback_\u001b[0m\u001b[0;34m(\u001b[0m\u001b[0;34m)\u001b[0m\u001b[0;34m\u001b[0m\u001b[0;34m\u001b[0m\u001b[0m\n\u001b[1;32m   2100\u001b[0m                     \u001b[0;32mexcept\u001b[0m \u001b[0mException\u001b[0m\u001b[0;34m:\u001b[0m\u001b[0;34m\u001b[0m\u001b[0;34m\u001b[0m\u001b[0m\n\u001b[0;32m-> 2101\u001b[0;31m                         stb = self.InteractiveTB.structured_traceback(etype,\n\u001b[0m\u001b[1;32m   2102\u001b[0m                                             value, tb, tb_offset=tb_offset)\n\u001b[1;32m   2103\u001b[0m \u001b[0;34m\u001b[0m\u001b[0m\n",
      "\u001b[0;32m/usr/local/lib/python3.10/dist-packages/IPython/core/ultratb.py\u001b[0m in \u001b[0;36mstructured_traceback\u001b[0;34m(self, etype, value, tb, tb_offset, number_of_lines_of_context)\u001b[0m\n\u001b[1;32m   1365\u001b[0m         \u001b[0;32melse\u001b[0m\u001b[0;34m:\u001b[0m\u001b[0;34m\u001b[0m\u001b[0;34m\u001b[0m\u001b[0m\n\u001b[1;32m   1366\u001b[0m             \u001b[0mself\u001b[0m\u001b[0;34m.\u001b[0m\u001b[0mtb\u001b[0m \u001b[0;34m=\u001b[0m \u001b[0mtb\u001b[0m\u001b[0;34m\u001b[0m\u001b[0;34m\u001b[0m\u001b[0m\n\u001b[0;32m-> 1367\u001b[0;31m         return FormattedTB.structured_traceback(\n\u001b[0m\u001b[1;32m   1368\u001b[0m             self, etype, value, tb, tb_offset, number_of_lines_of_context)\n\u001b[1;32m   1369\u001b[0m \u001b[0;34m\u001b[0m\u001b[0m\n",
      "\u001b[0;32m/usr/local/lib/python3.10/dist-packages/IPython/core/ultratb.py\u001b[0m in \u001b[0;36mstructured_traceback\u001b[0;34m(self, etype, value, tb, tb_offset, number_of_lines_of_context)\u001b[0m\n\u001b[1;32m   1265\u001b[0m         \u001b[0;32mif\u001b[0m \u001b[0mmode\u001b[0m \u001b[0;32min\u001b[0m \u001b[0mself\u001b[0m\u001b[0;34m.\u001b[0m\u001b[0mverbose_modes\u001b[0m\u001b[0;34m:\u001b[0m\u001b[0;34m\u001b[0m\u001b[0;34m\u001b[0m\u001b[0m\n\u001b[1;32m   1266\u001b[0m             \u001b[0;31m# Verbose modes need a full traceback\u001b[0m\u001b[0;34m\u001b[0m\u001b[0;34m\u001b[0m\u001b[0m\n\u001b[0;32m-> 1267\u001b[0;31m             return VerboseTB.structured_traceback(\n\u001b[0m\u001b[1;32m   1268\u001b[0m                 \u001b[0mself\u001b[0m\u001b[0;34m,\u001b[0m \u001b[0metype\u001b[0m\u001b[0;34m,\u001b[0m \u001b[0mvalue\u001b[0m\u001b[0;34m,\u001b[0m \u001b[0mtb\u001b[0m\u001b[0;34m,\u001b[0m \u001b[0mtb_offset\u001b[0m\u001b[0;34m,\u001b[0m \u001b[0mnumber_of_lines_of_context\u001b[0m\u001b[0;34m\u001b[0m\u001b[0;34m\u001b[0m\u001b[0m\n\u001b[1;32m   1269\u001b[0m             )\n",
      "\u001b[0;32m/usr/local/lib/python3.10/dist-packages/IPython/core/ultratb.py\u001b[0m in \u001b[0;36mstructured_traceback\u001b[0;34m(self, etype, evalue, etb, tb_offset, number_of_lines_of_context)\u001b[0m\n\u001b[1;32m   1122\u001b[0m         \u001b[0;34m\"\"\"Return a nice text document describing the traceback.\"\"\"\u001b[0m\u001b[0;34m\u001b[0m\u001b[0;34m\u001b[0m\u001b[0m\n\u001b[1;32m   1123\u001b[0m \u001b[0;34m\u001b[0m\u001b[0m\n\u001b[0;32m-> 1124\u001b[0;31m         formatted_exception = self.format_exception_as_a_whole(etype, evalue, etb, number_of_lines_of_context,\n\u001b[0m\u001b[1;32m   1125\u001b[0m                                                                tb_offset)\n\u001b[1;32m   1126\u001b[0m \u001b[0;34m\u001b[0m\u001b[0m\n",
      "\u001b[0;32m/usr/local/lib/python3.10/dist-packages/IPython/core/ultratb.py\u001b[0m in \u001b[0;36mformat_exception_as_a_whole\u001b[0;34m(self, etype, evalue, etb, number_of_lines_of_context, tb_offset)\u001b[0m\n\u001b[1;32m   1080\u001b[0m \u001b[0;34m\u001b[0m\u001b[0m\n\u001b[1;32m   1081\u001b[0m \u001b[0;34m\u001b[0m\u001b[0m\n\u001b[0;32m-> 1082\u001b[0;31m         \u001b[0mlast_unique\u001b[0m\u001b[0;34m,\u001b[0m \u001b[0mrecursion_repeat\u001b[0m \u001b[0;34m=\u001b[0m \u001b[0mfind_recursion\u001b[0m\u001b[0;34m(\u001b[0m\u001b[0morig_etype\u001b[0m\u001b[0;34m,\u001b[0m \u001b[0mevalue\u001b[0m\u001b[0;34m,\u001b[0m \u001b[0mrecords\u001b[0m\u001b[0;34m)\u001b[0m\u001b[0;34m\u001b[0m\u001b[0;34m\u001b[0m\u001b[0m\n\u001b[0m\u001b[1;32m   1083\u001b[0m \u001b[0;34m\u001b[0m\u001b[0m\n\u001b[1;32m   1084\u001b[0m         \u001b[0mframes\u001b[0m \u001b[0;34m=\u001b[0m \u001b[0mself\u001b[0m\u001b[0;34m.\u001b[0m\u001b[0mformat_records\u001b[0m\u001b[0;34m(\u001b[0m\u001b[0mrecords\u001b[0m\u001b[0;34m,\u001b[0m \u001b[0mlast_unique\u001b[0m\u001b[0;34m,\u001b[0m \u001b[0mrecursion_repeat\u001b[0m\u001b[0;34m)\u001b[0m\u001b[0;34m\u001b[0m\u001b[0;34m\u001b[0m\u001b[0m\n",
      "\u001b[0;32m/usr/local/lib/python3.10/dist-packages/IPython/core/ultratb.py\u001b[0m in \u001b[0;36mfind_recursion\u001b[0;34m(etype, value, records)\u001b[0m\n\u001b[1;32m    380\u001b[0m     \u001b[0;31m# first frame (from in to out) that looks different.\u001b[0m\u001b[0;34m\u001b[0m\u001b[0;34m\u001b[0m\u001b[0m\n\u001b[1;32m    381\u001b[0m     \u001b[0;32mif\u001b[0m \u001b[0;32mnot\u001b[0m \u001b[0mis_recursion_error\u001b[0m\u001b[0;34m(\u001b[0m\u001b[0metype\u001b[0m\u001b[0;34m,\u001b[0m \u001b[0mvalue\u001b[0m\u001b[0;34m,\u001b[0m \u001b[0mrecords\u001b[0m\u001b[0;34m)\u001b[0m\u001b[0;34m:\u001b[0m\u001b[0;34m\u001b[0m\u001b[0;34m\u001b[0m\u001b[0m\n\u001b[0;32m--> 382\u001b[0;31m         \u001b[0;32mreturn\u001b[0m \u001b[0mlen\u001b[0m\u001b[0;34m(\u001b[0m\u001b[0mrecords\u001b[0m\u001b[0;34m)\u001b[0m\u001b[0;34m,\u001b[0m \u001b[0;36m0\u001b[0m\u001b[0;34m\u001b[0m\u001b[0;34m\u001b[0m\u001b[0m\n\u001b[0m\u001b[1;32m    383\u001b[0m \u001b[0;34m\u001b[0m\u001b[0m\n\u001b[1;32m    384\u001b[0m     \u001b[0;31m# Select filename, lineno, func_name to track frames with\u001b[0m\u001b[0;34m\u001b[0m\u001b[0;34m\u001b[0m\u001b[0m\n",
      "\u001b[0;31mTypeError\u001b[0m: object of type 'NoneType' has no len()"
     ]
    }
   ],
   "source": [
    "history = model.fit(\n",
    "    train_dataset_final,\n",
    "    validation_data=validation_dataset_final,\n",
    "    epochs=30,\n",
    "    verbose=2,\n",
    "    callbacks=[]\n",
    ")"
   ]
  },
  {
   "cell_type": "code",
   "execution_count": 17,
   "metadata": {
    "colab": {
     "base_uri": "https://localhost:8080/"
    },
    "id": "n64RTVCw1r4D",
    "outputId": "3af7ef18-8230-4f59-dd09-8a66608806f5"
   },
   "outputs": [
    {
     "name": "stdout",
     "output_type": "stream",
     "text": [
      "\u001b[1m22/22\u001b[0m \u001b[32m━━━━━━━━━━━━━━━━━━━━\u001b[0m\u001b[37m\u001b[0m \u001b[1m1s\u001b[0m 43ms/step - accuracy: 0.5288 - loss: 1.7079\n",
      "Accuracy 0.5056818127632141\n"
     ]
    }
   ],
   "source": [
    "loss, accuracy = model.evaluate(test_dataset)\n",
    "print(\"Accuracy\", accuracy)"
   ]
  },
  {
   "cell_type": "code",
   "execution_count": 18,
   "metadata": {
    "id": "clbxNDyofjg_"
   },
   "outputs": [],
   "source": [
    "\n",
    "def plot_loss_acc(history):\n",
    "  acc = history.history['accuracy']\n",
    "  val_acc = history.history['val_accuracy']\n",
    "\n",
    "  loss = history.history['loss']\n",
    "  val_loss = history.history['val_loss']\n",
    "\n",
    "  epochs_range = range(len(acc))\n",
    "\n",
    "  fig, (ax1, ax2) = plt.subplots(1, 2, figsize=(15, 6))\n",
    "  ax1.plot(epochs_range, acc, label='Training Accuracy')\n",
    "  ax1.plot(epochs_range, val_acc, label='Validation Accuracy')\n",
    "  ax1.set_xlabel('Epochs')\n",
    "  ax1.set_ylabel('Accuracy')\n",
    "  ax1.set_title('Training and Validation Accuracy')\n",
    "  ax1.legend()\n",
    "\n",
    "  ax2.plot(epochs_range, loss, label='Training Loss')\n",
    "  ax2.plot(epochs_range, val_loss, label='Validation Loss')\n",
    "  ax2.set_xlabel('Epochs')\n",
    "  ax2.set_ylabel('Loss')\n",
    "  ax2.set_title('Training and Validation Loss')\n",
    "  ax2.legend()\n",
    "\n",
    "  plt.tight_layout()\n",
    "  plt.show()\n",
    "\n"
   ]
  },
  {
   "cell_type": "code",
   "execution_count": 23,
   "metadata": {
    "colab": {
     "base_uri": "https://localhost:8080/",
     "height": 607
    },
    "id": "wsXzzfAxQyXZ",
    "outputId": "1dfa793d-8083-47c8-a69a-977a81f58076"
   },
   "outputs": [
    {
     "data": {
      "image/png": "[encoded data removed]",
      "text/plain": [
       "<Figure size 1500x600 with 2 Axes>"
      ]
     },
     "metadata": {},
     "output_type": "display_data"
    }
   ],
   "source": [
    "plot_loss_acc(history)"
   ]
  },
  {
   "cell_type": "code",
   "execution_count": null,
   "metadata": {
    "id": "QBezhUlTyvKY"
   },
   "outputs": [],
   "source": [
    "print(f'Training Accuracy: {history.history[\"accuracy\"][-1]*100:.2f}%')\n",
    "print(f'Validation Accuracy: {history.history[\"val_accuracy\"][-1]*100:.2f}%')"
   ]
  },
  {
   "cell_type": "code",
   "execution_count": null,
   "metadata": {
    "colab": {
     "base_uri": "https://localhost:8080/",
     "height": 454
    },
    "id": "1SMlAMnkhG3M",
    "outputId": "b6626ead-7537-4af4-d6a6-76eec035867e"
   },
   "outputs": [
    {
     "data": {
      "text/plain": [
       "[<matplotlib.lines.Line2D at 0x7e9ae2efd780>]"
      ]
     },
     "execution_count": 24,
     "metadata": {},
     "output_type": "execute_result"
    },
    {
     "data": {
      "image/png": "[encoded data removed]",
      "text/plain": [
       "<Figure size 640x480 with 1 Axes>"
      ]
     },
     "metadata": {},
     "output_type": "display_data"
    }
   ],
   "source": [
    "plt.semilogx(history.history['learning_rate'], history.history['loss'])\n",
    "# plt.semilogx(history.history['val_loss'], label='Validation Loss')\n",
    "# plt.xlabel('Epochs')\n",
    "# plt.ylabel('Loss')\n",
    "# plt.legend()\n",
    "# plt.title('Training and Validation Loss')"
   ]
  },
  {
   "cell_type": "code",
   "execution_count": null,
   "metadata": {
    "id": "35mAdTa6hIEp"
   },
   "outputs": [],
   "source": []
  }
 ],
 "metadata": {
  "colab": {
   "include_colab_link": true,
   "name": "Welcome To Colab",
   "provenance": []
  },
  "kernelspec": {
   "display_name": "env_py310",
   "language": "python",
   "name": "python3"
  },
  "language_info": {
   "codemirror_mode": {
    "name": "ipython",
    "version": 3
   },
   "file_extension": ".py",
   "mimetype": "text/x-python",
   "name": "python",
   "nbconvert_exporter": "python",
   "pygments_lexer": "ipython3",
   "version": "3.10.15"
  }
 },
 "nbformat": 4,
 "nbformat_minor": 0
}
